{
  "cells": [
    {
      "cell_type": "markdown",
      "metadata": {
        "id": "5yvf74zO-P9c"
      },
      "source": [
        "# 🚀 Tecton Quickstart\n",
        "\n",
        "Tecton helps you build and productionize AI applications by making it easy to define, test, and deploy features for model training and serving.\n",
        "\n",
        "Let's take a quick look at how you can build a low-latency streaming feature for a fraud detection use case using nothing but Python.\n",
        "\n",
        "For an end-to-end tutorial that takes you from raw data to a real-time model, check out Productionizing an AI Application with Tecton.\n",
        "\n",
        "---\n",
        "\n",
        "##### 🗒️ **NOTE**\n",
        "\n",
        "This tutorial is designed to work with our [Interactive Demo](https://tecton.ai/explore), which you can sign up for at [explore.tecton.ai](https://explore.tecton.ai).\n",
        "\n",
        "---"
      ]
    },
    {
      "cell_type": "markdown",
      "metadata": {
        "id": "NFP0foTdHPPN"
      },
      "source": [
        "## ⚙️ Install Tecton"
      ]
    },
    {
      "cell_type": "code",
      "execution_count": null,
      "metadata": {
        "id": "ocOCkQN7uyNd"
      },
      "outputs": [],
      "source": [
        "!pip install 'tecton[rift]==0.9.0' --quiet"
      ]
    },
    {
      "cell_type": "markdown",
      "metadata": {
        "id": "ZOipgTDAFw-J"
      },
      "source": [
        "## ✅ Log in to Tecton\n",
        "\n",
        "Make sure to hit `enter` after pasting in your authentication token."
      ]
    },
    {
      "cell_type": "code",
      "execution_count": null,
      "metadata": {
        "id": "4wBVfvjZvI-n"
      },
      "outputs": [],
      "source": [
        "import tecton\n",
        "\n",
        "tecton.login(\"explore.tecton.ai\")\n",
        "tecton.set_validation_mode(\"auto\")"
      ]
    },
    {
      "cell_type": "markdown",
      "metadata": {
        "id": "ESNW-bgrF0hU"
      },
      "source": [
        "## 🧪 Define and test a streaming feature\n",
        "\n",
        "Using Tecton's Feature Engineering Framework we will define 3 new features for our fraud detection model:\n",
        "\n",
        "- A user's total transaction amount in the last 1 minute\n",
        "- A user's total transaction amount in the last 1 hour\n",
        "- A user's total transaction amount in the last 30 days\n",
        "\n",
        "To do so, we will first define a [Stream Source](https://docs.tecton.ai/docs/defining-features/data-sources/creating-a-data-source/creating-and-testing-a-push-source) which tells Tecton where to retrieve events online and offline. For the online path, we've configured Tecton to accept real-time events via an HTTP ingestion API which we will try sending records to in the next step. For the offline path, we've pointed Tecton to an S3 path that contains a historical record of our stream. Tecton uses this path for offline development and backfills.\n",
        "\n",
        "Next we define a [Stream Feature View](https://docs.tecton.ai/docs/defining-features/feature-views/stream-feature-view/stream-feature-view-with-rift) which can create one or more features via transformations against the Stream Source. In a Stream Feature View, we can run Python transformations on incoming records, and optionally apply time-windowed [aggregations](https://docs.tecton.ai/docs/defining-features/feature-views/aggregation-engine) via the `aggregations` parameter. These transformations run identically online and offline which is critical for preventing skew.\n",
        "\n",
        "Lastly, we can immediately test our features directly in our notebook via the `get_features_in_range` method. Try it out!"
      ]
    },
    {
      "cell_type": "code",
      "execution_count": null,
      "metadata": {
        "id": "vAgfm2z6vXNo"
      },
      "outputs": [],
      "source": [
        "from tecton import *\n",
        "from tecton.types import *\n",
        "from datetime import datetime, timedelta\n",
        "\n",
        "\n",
        "transactions_stream = StreamSource(\n",
        "    name=\"transactions_stream\",\n",
        "    stream_config=PushConfig(),\n",
        "    batch_config=FileConfig(\n",
        "        uri=\"s3://tecton.ai.public/tutorials/transactions.pq\",\n",
        "        file_format=\"parquet\",\n",
        "        timestamp_field=\"timestamp\",\n",
        "    ),\n",
        "    schema=[Field(\"user_id\", String), Field(\"timestamp\", Timestamp), Field(\"amount\", Float64)],\n",
        ")\n",
        "\n",
        "\n",
        "user = Entity(name=\"user\", join_keys=[\"user_id\"])\n",
        "\n",
        "@stream_feature_view(\n",
        "    source=transactions_stream,\n",
        "    entities=[user],\n",
        "    mode=\"pandas\",\n",
        "    aggregations=[\n",
        "        Aggregation(function=\"sum\", column=\"amount\", time_window=timedelta(minutes=1)),\n",
        "        Aggregation(function=\"sum\", column=\"amount\", time_window=timedelta(hours=1)),\n",
        "        Aggregation(function=\"sum\", column=\"amount\", time_window=timedelta(days=30)),\n",
        "    ],\n",
        "    schema=[Field(\"user_id\", String), Field(\"timestamp\", Timestamp), Field(\"amount\", Float64)],\n",
        ")\n",
        "def user_transaction_amount_totals(transactions_stream):\n",
        "    return transactions_stream[[\"user_id\", \"timestamp\", \"amount\"]]\n",
        "\n",
        "\n",
        "# Test the feature locally using historical data\n",
        "df = user_transaction_amount_totals.get_features_in_range(start_time=datetime(2022, 1, 1), end_time=datetime(2022, 2, 1)).to_pandas().fillna(0)\n",
        "df.head(5)"
      ]
    },
    {
      "cell_type": "markdown",
      "metadata": {
        "id": "kcNDIJH1F5Bf"
      },
      "source": [
        "## ⚡️ Ingest data and retrieve updated feature values in real-time\n",
        "\n",
        "Tecton objects get registered via a [declarative workflow](https://docs.tecton.ai/docs/the-feature-development-workflow#5-copy-definitions-into-your-teams-feature-repository). Features are defined as code in a repo and applied to a workspace (like a project) in a Tecton account using the Tecton CLI. This declarative workflow enables productionization best practices such as \"features as code,\" CI/CD, and unit testing.\n",
        "\n",
        "We've gone ahead and [registered these features](https://explore.tecton.ai/app/repo/prod/features/user_transaction_amount_totals/pipeline) so you can try ingesting new events and querying for online features. After features get registered with a workspace, Tecton handles the [backfilling and ongoing materialization](https://explore.tecton.ai/app/repo/prod/features/user_transaction_amount_totals/materialization) of data to the offline and online store for training and serving.\n",
        "\n",
        "This step requires generating an API key, which you can do [here](https://explore.tecton.ai/app/settings/accounts-and-access/service-accounts?create-service-account=true). Copy the generated key and paste it in below."
      ]
    },
    {
      "cell_type": "code",
      "execution_count": null,
      "metadata": {
        "id": "Uf_VCjfqv6P7"
      },
      "outputs": [],
      "source": [
        "import random, string\n",
        "\n",
        "tecton.set_credentials(tecton_api_key=\"your-api-key\") # replace with your API key\n",
        "\n",
        "# Fetch registered Tecton objects\n",
        "ws = tecton.get_workspace(\"prod\")\n",
        "ds = ws.get_data_source(\"transactions_stream\")\n",
        "fv = ws.get_feature_view(\"user_transaction_amount_totals\")\n",
        "\n",
        "# Generate a random user_id for the next step\n",
        "user_id = \"user_\" + \"\".join(random.choices(string.digits, k=7))\n",
        "print(\"Generated random user id: \" + user_id)"
      ]
    },
    {
      "cell_type": "markdown",
      "metadata": {
        "id": "7mAplFLQGIvm"
      },
      "source": [
        "### 🔥 Run this repeatedly and watch the features update!\n",
        "\n",
        "**Note: It may take a few minutes for your API key permissions to update.**"
      ]
    },
    {
      "cell_type": "code",
      "execution_count": null,
      "metadata": {
        "id": "QVMJ7UMYwqlT"
      },
      "outputs": [],
      "source": [
        "# Ingest a new transaction with any amount you want\n",
        "record = ds.ingest({\n",
        "    \"user_id\": user_id,\n",
        "    \"timestamp\": datetime.utcnow(),\n",
        "    \"amount\": 100\n",
        "})\n",
        "print(f\"Ingested record for '{user_id}':\")\n",
        "print(record)\n",
        "\n",
        "# Read updated features via Tecton's HTTP API\n",
        "features = fv.get_online_features(join_keys={\"user_id\": user_id}).to_dict()\n",
        "print(f\"\\nUpdated features for '{user_id}':\")\n",
        "print(features)"
      ]
    },
    {
      "cell_type": "markdown",
      "metadata": {
        "id": "u92v9Q4vIc0R"
      },
      "source": [
        "## ⭐️ Conclusion\n",
        "\n",
        "Now that you've seen how easy it is to build real-time features with Tecton, check out Productionizing an AI Application to see how you can productionize an end-to-end online AI Application in just 30 minutes.\n",
        "\n",
        "If you want to productionize your own features with your own data, you can sign up for a free trial at [tecton.ai/free-trial](https://tecton.ai/free-trial)."
      ]
    }
  ],
  "metadata": {
    "colab": {
      "provenance": []
    },
    "kernelspec": {
      "display_name": "Python 3",
      "name": "python3"
    },
    "language_info": {
      "name": "python"
    }
  },
  "nbformat": 4,
  "nbformat_minor": 0
}
