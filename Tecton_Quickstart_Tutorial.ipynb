{
  "cells": [
    {
      "cell_type": "markdown",
      "metadata": {
        "colab_type": "text",
        "id": "view-in-github"
      },
      "source": [
        "<a href=\"https://colab.research.google.com/github/tecton-ai/demo-notebooks/blob/main/Tecton_Quickstart_Tutorial.ipynb\" target=\"_parent\"><img src=\"https://colab.research.google.com/assets/colab-badge.svg\" alt=\"Open In Colab\"/></a>"
      ]
    },
    {
      "cell_type": "markdown",
      "metadata": {
        "id": "mz56rcJMnvFN"
      },
      "source": [
        "# 📚 Tecton Quickstart Tutorial\n",
        "---\n",
        "\n",
        "##### 💡 **NOT YET A TECTON USER?**\n",
        "\n",
        "Sign-up at [explore.tecton.ai](https://explore.tecton.ai) for a free account that lets you try out this tutorial and explore Tecton's Web UI.\n",
        "\n",
        "---\n",
        "\n",
        "Tecton helps you build and productionize real-time ML models by making it easy\n",
        "to define, test, and deploy features for training and serving.\n",
        "\n",
        "Let’s see how quickly we can build a real-time fraud detection model and bring\n",
        "it online.\n",
        "\n",
        "In this tutorial we will:\n",
        "\n",
        "1. Connect to data on S3\n",
        "2. Define and test features\n",
        "3. Generate a training dataset and train a model\n",
        "4. Productionize our features for real-time serving\n",
        "5. Run real-time inference to predict fraudulent transactions\n",
        "\n",
        "This tutorial is expected to take about 30 minutes (record time for building a\n",
        "real-time ML application 😎).\n",
        "\n",
        "---\n",
        "\n",
        "##### 💡 **TIP**\n",
        "\n",
        "Most of this tutorial is intended to be run in a notebook. Some steps will explicitly note to run commands in your terminal.\n",
        "\n",
        "---\n",
        "\n",
        "## ⚙️ Install Pre-Reqs\n",
        "\n",
        "First things first, let's install the Tecton SDK and other libraries used in this tutorial by running the cell below.\n"
      ]
    },
    {
      "cell_type": "code",
      "execution_count": 1,
      "metadata": {
        "id": "Q4zCM5x5mIOT"
      },
      "outputs": [
        {
          "name": "stdout",
          "output_type": "stream",
          "text": [
            "\u001b[33mWARNING: Ignoring invalid distribution ~umpy (/Users/maheshtecton/.pyenv/versions/3.11.6/lib/python3.11/site-packages)\u001b[0m\u001b[33m\n",
            "\u001b[0m\u001b[33mWARNING: Ignoring invalid distribution ~umpy (/Users/maheshtecton/.pyenv/versions/3.11.6/lib/python3.11/site-packages)\u001b[0m\u001b[33m\n",
            "\u001b[0m\u001b[31mERROR: Ignored the following yanked versions: 0.2.13, 0.3.6, 0.5.3\u001b[0m\u001b[31m\n",
            "\u001b[0m\u001b[31mERROR: Ignored the following versions that require a different python version: 0.0.20 Requires-Python ==3.7.*; 0.0.21 Requires-Python ==3.7.*; 0.0.22 Requires-Python ==3.7.*; 0.0.23 Requires-Python ==3.7.*; 0.0.24 Requires-Python ==3.7.*; 0.0.25 Requires-Python ==3.7.*; 0.0.26 Requires-Python ==3.7.*; 0.0.27 Requires-Python ==3.7.*; 0.0.28 Requires-Python ==3.7.*; 0.0.29 Requires-Python ==3.7.*; 0.0.30 Requires-Python ==3.7.*; 0.0.31 Requires-Python ==3.7.*; 0.0.32 Requires-Python ==3.7.*; 0.0.33 Requires-Python ==3.7.*; 0.0.34 Requires-Python ==3.7.*; 0.0.35 Requires-Python ==3.7.*; 0.0.36 Requires-Python ==3.7.*; 0.0.37 Requires-Python ==3.7.*; 0.0.38 Requires-Python ==3.7.*; 0.0.39 Requires-Python ==3.7.*; 0.0.40 Requires-Python ==3.7.*; 0.0.41 Requires-Python ==3.7.*; 0.0.42 Requires-Python ==3.7.*; 0.0.43 Requires-Python ==3.7.*; 0.0.44 Requires-Python ==3.7.*; 0.0.45 Requires-Python ==3.7.*; 0.0.46 Requires-Python ==3.7.*; 0.0.47 Requires-Python ==3.7.*; 0.0.48 Requires-Python ==3.7.*; 0.0.49 Requires-Python ==3.7.*; 0.0.50 Requires-Python ==3.7.*; 0.0.51 Requires-Python ==3.7.*; 0.0.52 Requires-Python ==3.7.*; 0.0.53 Requires-Python ==3.7.*; 0.0.54 Requires-Python ==3.7.*; 0.0.55 Requires-Python >=3.7.*,<3.9; 0.0.56 Requires-Python >=3.7.*,<3.9; 0.0.57 Requires-Python >=3.7.*,<3.9; 0.0.58 Requires-Python >=3.7.*,<3.9; 0.0.59 Requires-Python >=3.7.*,<3.9; 0.0.60 Requires-Python >=3.7.*,<3.9; 0.0.61 Requires-Python >=3.7.*,<3.9; 0.0.62 Requires-Python >=3.7.*,<3.9; 0.0.63 Requires-Python >=3.7.*,<3.9\u001b[0m\u001b[31m\n",
            "\u001b[0m\u001b[31mERROR: Could not find a version that satisfies the requirement tecton>=0.9.0 (from versions: 0.0.64, 0.0.65, 0.0.66, 0.1.0, 0.1.1, 0.1.2, 0.1.3, 0.1.4, 0.1.5, 0.1.6, 0.1.7, 0.1.8, 0.1.9, 0.1.10, 0.1.11, 0.1.12, 0.1.13, 0.1.14, 0.1.15, 0.1.16, 0.1.17, 0.1.18, 0.1.19, 0.1.20, 0.2.0, 0.2.1, 0.2.2, 0.2.3, 0.2.4, 0.2.5, 0.2.6, 0.2.7, 0.2.8, 0.2.9, 0.2.10, 0.2.11, 0.2.12, 0.3.0b0, 0.3.0b1, 0.3.0b2, 0.3.0b3, 0.3.0b4, 0.3.0b5, 0.3.0b6, 0.3.0b7, 0.3.0b8, 0.3.0b9, 0.3.0b10, 0.3.0b11, 0.3.0b12, 0.3.0b13, 0.3.0b14, 0.3.0b15, 0.3.0b16, 0.3.0b17, 0.3.0b18, 0.3.0b19, 0.3.0b20, 0.3.0b21, 0.3.0b22, 0.3.0b23, 0.3.0b24, 0.3.0b25, 0.3.0b26, 0.3.0b27, 0.3.0b28, 0.3.0b29, 0.3.0, 0.3.1, 0.3.2, 0.3.3, 0.3.4, 0.3.5, 0.3.7, 0.3.8, 0.4.0b0, 0.4.0b1, 0.4.0b2, 0.4.0b3, 0.4.0b4, 0.4.0b5, 0.4.0b6, 0.4.0b7, 0.4.0b8, 0.4.0b9, 0.4.0b10, 0.4.0b11, 0.4.0b12, 0.4.0b13, 0.4.0b14, 0.4.0b15, 0.4.0b16, 0.4.0b17, 0.4.0b18, 0.4.0b19, 0.4.0b20, 0.4.0b21, 0.4.0b22, 0.4.0b23, 0.4.0b24, 0.4.0b25, 0.4.0b26, 0.4.0b27, 0.4.0b28, 0.4.0b29, 0.4.0b30, 0.4.0b31, 0.4.0b32, 0.4.0b33, 0.4.0b34, 0.4.0b35, 0.4.0b36, 0.4.0b37, 0.4.0b38, 0.4.0b39, 0.4.0b40, 0.4.0rc0, 0.4.0rc1, 0.4.0rc2, 0.4.0rc3, 0.4.0rc4, 0.4.0rc5, 0.4.0rc6, 0.4.0rc7, 0.4.0, 0.4.1, 0.4.2, 0.4.3, 0.4.4, 0.4.5, 0.4.6, 0.4.7, 0.4.8, 0.4.9, 0.4.10, 0.4.11, 0.4.12, 0.4.13, 0.4.14, 0.4.15, 0.5.0b0, 0.5.0b1, 0.5.0b2, 0.5.0b3, 0.5.0b4, 0.5.0b5, 0.5.0b6, 0.5.0b7, 0.5.0b8, 0.5.0b9, 0.5.0b10, 0.5.0b11, 0.5.0b12, 0.5.0b13, 0.5.0b14, 0.5.0b15, 0.5.0b16, 0.5.0b17, 0.5.0b18, 0.5.0b19, 0.5.0b20, 0.5.0b21, 0.5.0b22, 0.5.0b23, 0.5.0b24, 0.5.0b25, 0.5.0b26, 0.5.0b27, 0.5.0b28, 0.5.0b29, 0.5.0b30, 0.5.0b31, 0.5.0b32, 0.5.0b33, 0.5.0b34, 0.5.0b35, 0.5.0b36, 0.5.0b37, 0.5.0b38, 0.5.0b39, 0.5.0b40, 0.5.0b41, 0.5.0b42, 0.5.0b43, 0.5.0b44, 0.5.0b45, 0.5.0b46, 0.5.0b47, 0.5.0b48, 0.5.0b49, 0.5.0b50, 0.5.0b51, 0.5.0b52, 0.5.0b53, 0.5.0b54, 0.5.0b55, 0.5.0b56, 0.5.0b57, 0.5.0b58, 0.5.0b59, 0.5.0b60, 0.5.0b61, 0.5.0b62, 0.5.0rc0, 0.5.0rc1, 0.5.0rc2, 0.5.0rc3, 0.5.0, 0.5.1, 0.5.2, 0.5.4, 0.5.5, 0.5.6, 0.5.7, 0.5.8, 0.5.9, 0.5.10, 0.6.0b0, 0.6.0b1, 0.6.0b2, 0.6.0b3, 0.6.0b4, 0.6.0b5, 0.6.0b6, 0.6.0b7, 0.6.0b8, 0.6.0b9, 0.6.0b10, 0.6.0b11, 0.6.0b12, 0.6.0b13, 0.6.0b14, 0.6.0b15, 0.6.0b16, 0.6.0b17, 0.6.0b18, 0.6.0b19, 0.6.0b20, 0.6.0b21, 0.6.0b22, 0.6.0b23, 0.6.0b24, 0.6.0b25, 0.6.0b26, 0.6.0b27, 0.6.0b28, 0.6.0b29, 0.6.0b30, 0.6.0b31, 0.6.0b32, 0.6.0b33, 0.6.0b34, 0.6.0b35, 0.6.0b36, 0.6.0b37, 0.6.0b38, 0.6.0b39, 0.6.0b40, 0.6.0b41, 0.6.0b42, 0.6.0b43, 0.6.0b44, 0.6.0b45, 0.6.0b46, 0.6.0b47, 0.6.0b48, 0.6.0b49, 0.6.0b50, 0.6.0b51, 0.6.0b52, 0.6.0b53, 0.6.0b54, 0.6.0b55, 0.6.0rc0, 0.6.0rc1, 0.6.0rc2, 0.6.0, 0.6.1, 0.6.2, 0.6.3, 0.6.4, 0.6.5, 0.6.6, 0.6.7, 0.6.8, 0.6.9, 0.6.10, 0.6.11, 0.6.12, 0.6.13, 0.6.14, 0.6.15, 0.6.16, 0.6.17, 0.6.18, 0.6.19, 0.6.20, 0.7.0b0, 0.7.0b1, 0.7.0b2, 0.7.0b3, 0.7.0b4, 0.7.0b5, 0.7.0b6, 0.7.0b7, 0.7.0b8, 0.7.0b9, 0.7.0b10, 0.7.0b11, 0.7.0b12, 0.7.0b13, 0.7.0b14, 0.7.0b15, 0.7.0b16, 0.7.0b17, 0.7.0b18, 0.7.0b19, 0.7.0b20, 0.7.0b21, 0.7.0b22, 0.7.0b23, 0.7.0b24, 0.7.0b25, 0.7.0b26, 0.7.0b27, 0.7.0b28, 0.7.0b29, 0.7.0b30, 0.7.0b31, 0.7.0b32, 0.7.0b33, 0.7.0b34, 0.7.0b35, 0.7.0b36, 0.7.0b37, 0.7.0b38, 0.7.0b39, 0.7.0b40, 0.7.0b41, 0.7.0b42, 0.7.0b43, 0.7.0rc0, 0.7.0rc1, 0.7.0rc2, 0.7.0rc3, 0.7.0, 0.7.1, 0.7.2, 0.7.3, 0.7.4, 0.7.5, 0.7.6, 0.7.7, 0.7.8, 0.7.9, 0.7.10, 0.7.11, 0.7.12, 0.7.13, 0.8.0b0, 0.8.0b1, 0.8.0b2, 0.8.0b3, 0.8.0b4, 0.8.0b5, 0.8.0b6, 0.8.0b7, 0.8.0b8, 0.8.0b9, 0.8.0b10, 0.8.0b11, 0.8.0b12, 0.8.0b13, 0.8.0b14, 0.8.0b15, 0.8.0b16, 0.8.0b17, 0.8.0b18, 0.8.0b19, 0.8.0b20, 0.8.0b21, 0.8.0b22, 0.8.0b23, 0.8.0b24, 0.8.0b25, 0.8.0b26, 0.8.0b27, 0.8.0b28, 0.8.0b29, 0.8.0b30, 0.8.0b31, 0.8.0b32, 0.8.0b33, 0.8.0b34, 0.8.0b35, 0.8.0b36, 0.8.0b37, 0.8.0b38, 0.8.0b39, 0.8.0rc0, 0.8.0rc1, 0.8.0rc2, 0.8.0rc3, 0.8.0rc4, 0.8.0, 0.8.1, 0.8.2, 0.8.3, 0.8.4, 0.8.5, 0.8.6, 0.8.7, 0.8.8, 0.9.0b0, 0.9.0b1, 0.9.0b2, 0.9.0b3, 0.9.0b4, 0.9.0b5, 0.9.0b6, 0.9.0b7, 0.9.0b8, 0.9.0b9, 0.9.0b10, 0.9.0b11, 0.9.0b12, 0.9.0b13, 0.9.0b14, 0.9.0b15, 0.9.0b16, 0.9.0b17, 0.9.0b18, 0.9.0b19, 0.9.0b20, 0.9.0b21, 0.9.0b22, 0.9.0rc0, 0.9.0rc1, 0.9.0rc2, 0.9.0rc3, 0.9.0rc4)\u001b[0m\u001b[31m\n",
            "\u001b[0m\u001b[31mERROR: No matching distribution found for tecton>=0.9.0\u001b[0m\u001b[31m\n",
            "\u001b[0m\u001b[33mWARNING: Ignoring invalid distribution ~umpy (/Users/maheshtecton/.pyenv/versions/3.11.6/lib/python3.11/site-packages)\u001b[0m\u001b[33m\n",
            "\u001b[0m\u001b[33mWARNING: Ignoring invalid distribution ~umpy (/Users/maheshtecton/.pyenv/versions/3.11.6/lib/python3.11/site-packages)\u001b[0m\u001b[33m\n",
            "\u001b[0m\u001b[33mWARNING: Ignoring invalid distribution ~umpy (/Users/maheshtecton/.pyenv/versions/3.11.6/lib/python3.11/site-packages)\u001b[0m\u001b[33m\n",
            "\u001b[0m"
          ]
        }
      ],
      "source": [
        "!pip install 'tecton[rift]>=0.9.0' gcsfs s3fs scikit-learn -q"
      ]
    },
    {
      "cell_type": "markdown",
      "metadata": {
        "id": "6wU4HXRwx9Ci"
      },
      "source": [
        "## ✅ Log in to Tecton\n",
        "\n",
        "Next we will authenticate with your organization's Tecton account.\n",
        "\n",
        "For users that just signed up via `explore.tecton.ai` you can leave this step as is. If your organization has it's own Tecton account, replace `explore.tecton.ai` with your account url.\n",
        "\n",
        "*Note: You need to press `enter` after pasting in your authentication code.*"
      ]
    },
    {
      "cell_type": "code",
      "execution_count": null,
      "metadata": {
        "id": "m3WwptmoyHlZ"
      },
      "outputs": [],
      "source": [
        "import tecton\n",
        "\n",
        "tecton.login('explore.tecton.ai') # replace with your URL"
      ]
    },
    {
      "cell_type": "markdown",
      "metadata": {
        "id": "R1_E-oEToIAj"
      },
      "source": [
        "Let's then run some basic imports and setup that we will use later in the tutorial."
      ]
    },
    {
      "cell_type": "code",
      "execution_count": null,
      "metadata": {
        "id": "As_fq_TtoIAj"
      },
      "outputs": [],
      "source": [
        "from tecton import Entity, BatchSource, FileConfig, batch_feature_view, Aggregation\n",
        "from tecton.types import Field, String, Timestamp, Float64\n",
        "from datetime import datetime, timedelta\n",
        "\n",
        "tecton.set_validation_mode(\"auto\")\n",
        "tecton.conf.set(\"TECTON_OFFLINE_RETRIEVAL_COMPUTE_MODE\", \"rift\")"
      ]
    },
    {
      "cell_type": "markdown",
      "metadata": {
        "id": "TMa0Nxl_yJhI"
      },
      "source": [
        "Now we're ready to build!\n",
        "\n",
        "## 🔎 Examine raw data\n",
        "\n",
        "First let's examine some historical transaction data that we have available on\n",
        "S3."
      ]
    },
    {
      "cell_type": "code",
      "execution_count": null,
      "metadata": {
        "id": "ZAfXwcWWyMZq"
      },
      "outputs": [],
      "source": [
        "import pandas as pd\n",
        "\n",
        "transactions_df = pd.read_parquet(\"s3://tecton.ai.public/tutorials/transactions.pq\", storage_options={\"anon\": True})\n",
        "\n",
        "display(transactions_df.head(5))"
      ]
    },
    {
      "cell_type": "markdown",
      "metadata": {
        "id": "F60PnJy3yOpC"
      },
      "source": [
        "## 👩‍💻 Define and test features locally\n",
        "\n",
        "In our data, we see that there's information on users' transactions over time.\n",
        "\n",
        "Let's use this data to create the following features:\n",
        "\n",
        "- A user's average transaction amount over 1, 3, and 7 days.\n",
        "- A user's total transaction count over 1, 3, and 7 days.\n",
        "\n",
        "To build these features, we will define a \"Batch Source\" and \"Batch Feature\n",
        "View\" using Tecton's Feature Engineering Framework.\n",
        "\n",
        "A Feature View is how we define our feature logic and give Tecton the\n",
        "information it needs to productionize, monitor, and manage features.\n",
        "\n",
        "Tecton's [development workflow](https://docs.tecton.ai/docs/the-feature-development-workflow) allows you\n",
        "to build and test features, as well as generate training data entirely in a\n",
        "notebook! Let's try it out."
      ]
    },
    {
      "cell_type": "code",
      "execution_count": null,
      "metadata": {
        "id": "GTKNgHlbyLkX"
      },
      "outputs": [],
      "source": [
        "transactions = BatchSource(\n",
        "    name=\"transactions\",\n",
        "    batch_config=FileConfig(\n",
        "        uri=\"s3://tecton.ai.public/tutorials/transactions.pq\",\n",
        "        file_format=\"parquet\",\n",
        "        timestamp_field=\"timestamp\",\n",
        "    ),\n",
        ")\n",
        "\n",
        "# An entity defines the concept we are modeling features for\n",
        "# The join keys will be used to aggregate, join, and retrieve features\n",
        "user = Entity(name=\"user\", join_keys=[\"user_id\"])\n",
        "\n",
        "# We use Pandas to transform the raw data and Tecton aggregations to efficiently and accurately compute metrics across raw events\n",
        "# Feature View decorators contain a wide range of parameters for materializing, cataloging, and monitoring features\n",
        "@batch_feature_view(\n",
        "    description=\"User transaction metrics over 1, 3 and 7 days\",\n",
        "    sources=[transactions],\n",
        "    entities=[user],\n",
        "    mode=\"pandas\",\n",
        "    aggregation_interval=timedelta(days=1),\n",
        "    aggregations=[\n",
        "        Aggregation(function=\"mean\", column=\"amount\", time_window=timedelta(days=1)),\n",
        "        Aggregation(function=\"mean\", column=\"amount\", time_window=timedelta(days=3)),\n",
        "        Aggregation(function=\"mean\", column=\"amount\", time_window=timedelta(days=7)),\n",
        "        Aggregation(function=\"count\", column=\"amount\", time_window=timedelta(days=1)),\n",
        "        Aggregation(function=\"count\", column=\"amount\", time_window=timedelta(days=3)),\n",
        "        Aggregation(function=\"count\", column=\"amount\", time_window=timedelta(days=7)),\n",
        "    ],\n",
        "    schema=[Field(\"user_id\", String), Field(\"timestamp\", Timestamp), Field(\"amount\", Float64)]\n",
        ")\n",
        "def user_transaction_metrics(transactions):\n",
        "    return transactions[[\"user_id\", \"timestamp\", \"amount\"]]"
      ]
    },
    {
      "cell_type": "markdown",
      "metadata": {
        "id": "oLaguZOXyfIl"
      },
      "source": [
        "## 🧪 Test features interactively\n",
        "\n",
        "Now that we've defined our Feature View, we can use\n",
        "`get_features_in_range` to produce a range of feature values and check out the\n",
        "data."
      ]
    },
    {
      "cell_type": "code",
      "execution_count": null,
      "metadata": {
        "id": "Oq87DSjCyekp"
      },
      "outputs": [],
      "source": [
        "start = datetime(2022, 1, 1)\n",
        "end = datetime(2022, 2, 1)\n",
        "\n",
        "df = user_transaction_metrics.get_features_in_range(start_time=start, end_time=end).to_pandas()\n",
        "\n",
        "display(df.head(5))"
      ]
    },
    {
      "cell_type": "markdown",
      "metadata": {
        "id": "jkh3HIH7yoA7"
      },
      "source": [
        "## 🧮 Generate training data\n",
        "\n",
        "We'll build our training dataset from labeled historical transactions and try to\n",
        "predict the \"is_fraud\" column for a given transaction.\n",
        "\n",
        "First, let's load our label dataset, which indicates whether a transaction in our historical dataset was fraudulent."
      ]
    },
    {
      "cell_type": "code",
      "execution_count": null,
      "metadata": {
        "id": "9OAh2uA41ao0"
      },
      "outputs": [],
      "source": [
        "training_labels = pd.read_parquet(\"s3://tecton.ai.public/tutorials/labels.pq\", storage_options={\"anon\": True})\n",
        "display(training_labels.head(5))"
      ]
    },
    {
      "cell_type": "markdown",
      "metadata": {
        "id": "bIEzFAKr1fwv"
      },
      "source": [
        "Let's join our transactions dataset to our label dataset (on the `transaction_id` column) to produce a set of training events we'll then use to generate our training data."
      ]
    },
    {
      "cell_type": "code",
      "execution_count": null,
      "metadata": {
        "id": "yvFI-PkxylN5"
      },
      "outputs": [],
      "source": [
        "training_events = training_labels.merge(transactions_df, on=['transaction_id'], how='left')[['user_id', 'timestamp', 'amount', 'is_fraud']]\n",
        "display(training_events.head(5))"
      ]
    },
    {
      "cell_type": "markdown",
      "metadata": {
        "id": "fVYZ8-nFyrJH"
      },
      "source": [
        "Next, let's ask Tecton to join the features we just created into our labeled\n",
        "events. Tecton will perform a\n",
        "[time travel join](https://docs.tecton.ai/docs/reading-feature-data/reading-feature-data-for-training/constructing-training-data#a-note-on-point-in-time-correctness)\n",
        "to fetch point-in-time correct feature values.\n",
        "\n",
        "To do this we will create a \"Feature Service\" which defines the list of features\n",
        "that will be used by our model.\n",
        "\n",
        "We can call `get_features_for_events(training_events)` on the Feature Service to\n",
        "get historically accurate features for each event.\n"
      ]
    },
    {
      "cell_type": "code",
      "execution_count": null,
      "metadata": {
        "id": "jhvzb3fbyqj7"
      },
      "outputs": [],
      "source": [
        "from tecton import FeatureService\n",
        "\n",
        "fraud_detection_feature_service = FeatureService(\n",
        "    name=\"fraud_detection_feature_service\", features=[user_transaction_metrics]\n",
        ")\n",
        "\n",
        "training_data = fraud_detection_feature_service.get_features_for_events(training_events).to_pandas().fillna(0)\n",
        "display(training_data.sample(5))"
      ]
    },
    {
      "cell_type": "markdown",
      "metadata": {
        "id": "_YonJsmxzTYf"
      },
      "source": [
        "## 🧠 Train a model\n",
        "\n",
        "Once we have our training data set from Tecton, we can use whatever framework we\n",
        "want for training the model.\n",
        "\n",
        "In the example below, we'll train a simple Logistic Regression model using\n",
        "sklearn!"
      ]
    },
    {
      "cell_type": "code",
      "execution_count": null,
      "metadata": {
        "id": "0Dwwy1-bzUiU"
      },
      "outputs": [],
      "source": [
        "from sklearn.pipeline import make_pipeline\n",
        "from sklearn.impute import SimpleImputer\n",
        "from sklearn.preprocessing import OneHotEncoder, StandardScaler\n",
        "from sklearn.compose import ColumnTransformer\n",
        "from sklearn.linear_model import LogisticRegression\n",
        "from sklearn.model_selection import train_test_split\n",
        "from sklearn import metrics\n",
        "\n",
        "df = training_data.drop(['user_id', 'timestamp', 'amount'], axis=1)\n",
        "\n",
        "X = df.drop(\"is_fraud\", axis=1)\n",
        "y = df[\"is_fraud\"]\n",
        "\n",
        "X_train, X_test, y_train, y_test = train_test_split(X, y, test_size=0.3, random_state=42)\n",
        "\n",
        "num_cols = X_train.select_dtypes(exclude=[\"object\"]).columns.tolist()\n",
        "cat_cols = X_train.select_dtypes(include=[\"object\"]).columns.tolist()\n",
        "\n",
        "num_pipe = make_pipeline(SimpleImputer(strategy=\"median\"), StandardScaler())\n",
        "\n",
        "cat_pipe = make_pipeline(\n",
        "    SimpleImputer(strategy=\"constant\", fill_value=\"N/A\"), OneHotEncoder(handle_unknown=\"ignore\", sparse_output=False)\n",
        ")\n",
        "\n",
        "full_pipe = ColumnTransformer([(\"num\", num_pipe, num_cols), (\"cat\", cat_pipe, cat_cols)])\n",
        "\n",
        "model = make_pipeline(full_pipe, LogisticRegression(max_iter=1000, random_state=42))\n",
        "\n",
        "model.fit(X_train, y_train)\n",
        "\n",
        "y_predict = model.predict(X_test)\n",
        "\n",
        "print(metrics.classification_report(y_test, y_predict, zero_division=0))"
      ]
    },
    {
      "cell_type": "markdown",
      "metadata": {
        "id": "gccgbAmxzUGp"
      },
      "source": [
        "Of course, you can continue building iterating on features and retraining your\n",
        "model until you are ready to productionize.\n",
        "\n",
        "## 🚀 Apply your Tecton application to production\n",
        "\n",
        "Tecton objects get registered via a declarative workflow. Features are defined\n",
        "as code in a repo and applied to a [workspace](https://docs.tecton.ai/docs/beta/introduction/tecton-concepts#workspace) in a Tecton account using the\n",
        "Tecton CLI. A workspace is like a project for your team or org and corresponds to a single feature repository.\n",
        "\n",
        "This declarative workflow enables productionisation best practices such as\n",
        "\"features as code,\" CI/CD, and unit testing.\n",
        "\n",
        "---\n",
        "\n",
        "##### ℹ️ **HEADS UP!**\n",
        "\n",
        "This section requires your organization to have it's own Tecton account. But don't fret! If you are a user of 'explore.tecton.ai', we've done these steps for you. You can read through it and continue with the rest of the tutorial, picking back up at the \"Check on backfilling status\" section below.\n",
        "\n",
        "If you want to productionize your own features with your own data, you can sign up for an unrestricted free trial at [tecton.ai/free-trial](https://tecton.ai/free-trial).\n",
        "\n",
        "---\n",
        "\n",
        "### 1. Create a Tecton Feature Repository\n",
        "\n",
        "Let's switch over from our notebook to a terminal and create a new Tecton\n",
        "Feature Repository. For now we will put all our definitions in a single file.\n",
        "\n",
        "✅ Run these commands to create a new Tecton repo.\n",
        "\n",
        "```bash\n",
        "mkdir tecton-feature-repo\n",
        "cd tecton-feature-repo\n",
        "touch features.py\n",
        "tecton init\n",
        "```\n",
        "\n",
        "### 2. Fill in features.py and enable materialization\n",
        "\n",
        "✅ Now copy & paste the definition of the Tecton objects you created in your\n",
        "notebook to `features.py` (copied below).\n",
        "\n",
        "On our Feature View we've added four parameters to enable backfilling and\n",
        "ongoing materialization to the online and offline Feature Store:\n",
        "\n",
        "- `online=True`\n",
        "- `offline=True`\n",
        "- `feature_start_time=datetime(2020,1,1)`\n",
        "- `batch_schedule=timedelta(days=1)`\n",
        "\n",
        "The offline and online Feature Stores are used for storing and serving feature values for training and inference. For more information, check out [Tecton Concepts](https://docs.tecton.ai/docs/beta/introduction/tecton-concepts#offline-feature-store).\n",
        "\n",
        "When we apply our changes to a [Live Workspace](https://docs.tecton.ai/docs/beta/introduction/tecton-concepts#workspace), Tecton will automatically kick\n",
        "off jobs to backfill feature data from `feature_start_time`. Frontfill jobs will\n",
        "then run on the defined `batch_schedule`.\n",
        "\n",
        "---\n",
        "\n",
        "##### ℹ️ **INFO**\n",
        "\n",
        "Besides the new materialization parameters, the code below is exactly the same as our definitions above. No changes are required when moving from interactive development to productionization!\n",
        "\n",
        "---\n",
        "\n",
        "\n",
        "**features.py**\n",
        "\n",
        "```python\n",
        "from tecton import Entity, BatchSource, FileConfig, batch_feature_view, Aggregation, FeatureService\n",
        "from tecton.types import Field, String, Timestamp, Float64\n",
        "from datetime import datetime, timedelta\n",
        "\n",
        "\n",
        "transactions = BatchSource(\n",
        "    name=\"transactions\",\n",
        "    batch_config=FileConfig(\n",
        "        uri=\"s3://tecton.ai.public/tutorials/transactions.pq\",\n",
        "        file_format=\"parquet\",\n",
        "        timestamp_field=\"timestamp\",\n",
        "    ),\n",
        ")\n",
        "\n",
        "# An entity defines the concept we are modeling features for\n",
        "# The join keys will be used to aggregate, join, and retrieve features\n",
        "user = Entity(name=\"user\", join_keys=[\"user_id\"])\n",
        "\n",
        "# We use Pandas to transform the raw data and Tecton aggregations to efficiently and accurately compute metrics across raw events\n",
        "# Feature View decorators contain a wide range of parameters for materializing, cataloging, and monitoring features\n",
        "@batch_feature_view(\n",
        "    description=\"User transaction metrics over 1, 3 and 7 days\",\n",
        "    sources=[transactions],\n",
        "    entities=[user],\n",
        "    mode=\"pandas\",\n",
        "    aggregation_interval=timedelta(days=1),\n",
        "    aggregations=[\n",
        "        Aggregation(function=\"mean\", column=\"amount\", time_window=timedelta(days=1)),\n",
        "        Aggregation(function=\"mean\", column=\"amount\", time_window=timedelta(days=3)),\n",
        "        Aggregation(function=\"mean\", column=\"amount\", time_window=timedelta(days=7)),\n",
        "        Aggregation(function=\"count\", column=\"amount\", time_window=timedelta(days=1)),\n",
        "        Aggregation(function=\"count\", column=\"amount\", time_window=timedelta(days=3)),\n",
        "        Aggregation(function=\"count\", column=\"amount\", time_window=timedelta(days=7)),\n",
        "    ],\n",
        "    schema=[Field(\"user_id\", String), Field(\"timestamp\", Timestamp), Field(\"amount\", Float64)],\n",
        "    online=True,\n",
        "    offline=True,\n",
        "    feature_start_time=datetime(2020, 1, 1),\n",
        "    batch_schedule=timedelta(days=1),\n",
        ")\n",
        "def user_transaction_metrics(transactions):\n",
        "    return transactions[[\"user_id\", \"timestamp\", \"amount\"]]\n",
        "\n",
        "fraud_detection_feature_service = FeatureService(\n",
        "    name=\"fraud_detection_feature_service\", features=[user_transaction_metrics]\n",
        ")\n",
        "```\n",
        "\n",
        "### 3. Apply your changes to a new workspace\n",
        "\n",
        "Our last step is to login to your organization's Tecton account and apply our\n",
        "repo to a workspace!\n",
        "\n",
        "✅ Run the following commands in your terminal to create a workspace and apply\n",
        "your changes:\n",
        "\n",
        "```bash\n",
        "tecton login [your-org-account-name].tecton.ai\n",
        "tecton workspace create [your-name]-quickstart --live\n",
        "tecton apply\n",
        "```\n",
        "\n",
        "```\n",
        "Using workspace \"[your-name]-quickstart\" on cluster https://explore.tecton.ai\n",
        "✅ Imported 1 Python module from the feature repository\n",
        "✅ Imported 1 Python module from the feature repository\n",
        "⚠️  Running Tests: No tests found.\n",
        "✅ Collecting local feature declarations\n",
        "✅ Performing server-side feature validation: Initializing.\n",
        " ↓↓↓↓↓↓↓↓↓↓↓↓ Plan Start ↓↓↓↓↓↓↓↓↓↓\n",
        "\n",
        "  + Create Batch Data Source\n",
        "    name:           transactions\n",
        "\n",
        "  + Create Entity\n",
        "    name:           user\n",
        "\n",
        "  + Create Transformation\n",
        "    name:           user_transaction_metrics\n",
        "    description:    Trailing average transaction amount over 1, 3 and 7 days\n",
        "\n",
        "  + Create Batch Feature View\n",
        "    name:           user_transaction_metrics\n",
        "    description:    Trailing average transaction amount over 1, 3 and 7 days\n",
        "    materialization: 11 backfills, 1 recurring batch job\n",
        "    > backfill:     10 Backfill jobs 2020-01-01 00:00:00 UTC to 2023-08-16 00:00:00 UTC writing to the Offline Store\n",
        "                    1 Backfill job 2023-08-16 00:00:00 UTC to 2023-08-23 00:00:00 UTC writing to both the Online and Offline Store\n",
        "    > incremental:  1 Recurring Batch job scheduled every 1 day writing to both the Online and Offline Store\n",
        "\n",
        "  + Create Feature Service\n",
        "    name:           fraud_detection_feature_service\n",
        "\n",
        " ↑↑↑↑↑↑↑↑↑↑↑↑ Plan End ↑↑↑↑↑↑↑↑↑↑↑↑\n",
        " Generated plan ID is 8d01ad78e3194a5dbd3f934f04d71564\n",
        " View your plan in the Web UI: https://explore.tecton.ai/app/[your-name]-quickstart/plan-summary/8d01ad78e3194a5dbd3f934f04d71564\n",
        " ⚠️  Objects in plan contain warnings.\n",
        "\n",
        "Note: Updates to Feature Services may take up to 60 seconds to be propagated to the real-time feature-serving endpoint.\n",
        "Note: This workspace ([your-name]-quickstart) is a \"Live\" workspace. Applying this plan may result in new materialization jobs which will incur costs. Carefully examine the plan output before applying changes.\n",
        "Are you sure you want to apply this plan to: \"[your-name]-quickstart\"? [y/N]> y\n",
        "🎉 all done!\n",
        "```\n",
        "\n",
        "## 🟢 Check on backfilling status\n",
        "\n",
        "Now that we've applied our features to a live workspace and enabled\n",
        "materialization to the online and offline store, we can check on the status of\n",
        "backfill jobs in the Tecton Web UI.\n",
        "\n",
        "This can be found at the following URL (replace `[your-org-account-name]` and `[your-workspace-name]` with the appropriate values):\n",
        "\n",
        "[https://[your-org-account-name].tecton.ai/app/repo/[your-workspace-name]/features/user_transaction_metrics/materialization](https://[your-org-account-name].tecton.ai/app/repo/[your-workspace-name]/features/user_transaction_metrics/materialization)\n",
        "\n",
        "If you are using `explore.tecton.ai`, the URL will be:\n",
        "[https://explore.tecton.ai/app/repo/prod/features/user_transaction_metrics/materialization](https://explore.tecton.ai/app/repo/prod/features/user_transaction_metrics/materialization)\n",
        "\n",
        "Once the backfill jobs have completed, we can fetch feature values online!\n",
        "\n",
        "## ⚡️ Create a function to retrieve features from Tecton's HTTP API\n",
        "\n",
        "Now let's use Tecton's HTTP API to retrieve features at low latency.\n",
        "\n",
        "To do this, you will first need to create a new Service Account and give it\n",
        "access to read features from your workspace.\n",
        "\n",
        "✅ Head to the following URL to create a new service account (replace \"explore\" with your organization's account name in the URL as necessary). Be sure to save the API key!\n",
        "\n",
        "[https://explore.tecton.ai/app/settings/accounts-and-access/service-accounts?create-service-account=true](https://explore.tecton.ai/app/settings/accounts-and-access/service-accounts?create-service-account=true)\n",
        "\n",
        "✅ If you are using `explore.tecton.ai`, this account will automatically be given the necessary privileges to read features from the \"prod\" workspace. Otherwise, you should give the service account access to read features from your newly created workspace by following these steps:\n",
        "\n",
        "1. Navigate to the Service Account page by clicking on your new service account in the list at the URL above\n",
        "2. Click on \"Assign Workspace Access\"\n",
        "3. Select your workspace and give the service account the \"Consumer\" role\n",
        "\n",
        "✅ Copy the generated API key into the code snippet below where it says `your-api-key`. Also be sure to replace the workspace and account name with your newly created workspace name and account name if necessary."
      ]
    },
    {
      "cell_type": "code",
      "execution_count": null,
      "metadata": {
        "id": "BNCuEF1wzrc2"
      },
      "outputs": [],
      "source": [
        "import requests\n",
        "\n",
        "\n",
        "def get_online_feature_data(user_id):\n",
        "    TECTON_API_KEY = \"your-api-key\"  # replace with your API key\n",
        "    WORKSPACE_NAME = \"prod\" # replace with your new workspace name if needed\n",
        "    ACCOUNT_URL = \"explore.tecton.ai\" # replace with your org account URL if needed\n",
        "\n",
        "    headers = {\"Authorization\": f\"Tecton-key {TECTON_API_KEY}\"}\n",
        "\n",
        "    request_data = {\n",
        "        \"params\": {\n",
        "            \"feature_service_name\": \"fraud_detection_feature_service\",\n",
        "            \"join_key_map\": {\"user_id\": user_id},\n",
        "            \"metadata_options\": {\"include_names\": True},\n",
        "            \"workspace_name\": WORKSPACE_NAME,\n",
        "        }\n",
        "    }\n",
        "\n",
        "    url = f\"https://{ACCOUNT_URL}/api/v1/feature-service/get-features\"\n",
        "\n",
        "    response = requests.post(url, json=request_data, headers=headers)\n",
        "    return response.json()"
      ]
    },
    {
      "cell_type": "markdown",
      "metadata": {
        "id": "gWYoWMkf38Jy"
      },
      "source": [
        "Now we can use our function to retrieve features at low latency!"
      ]
    },
    {
      "cell_type": "code",
      "execution_count": null,
      "metadata": {
        "id": "gk6Ry43V36KW"
      },
      "outputs": [],
      "source": [
        "user_id = \"user_1990251765\"\n",
        "\n",
        "feature_data = get_online_feature_data(user_id)\n",
        "\n",
        "if \"error\" in feature_data:\n",
        "    print(\"ERROR:\", feature_data[\"error\"])\n",
        "else:\n",
        "    print(feature_data[\"result\"])"
      ]
    },
    {
      "cell_type": "markdown",
      "metadata": {
        "id": "NhtXuu8n3_i5"
      },
      "source": [
        "## 💡 Create a function to make a prediction given feature data\n",
        "\n",
        "Now that we can fetch feature data online, let's create a function that takes a\n",
        "feature vector and runs model inference to get a fraud prediction.\n",
        "\n",
        "---\n",
        "\n",
        "##### ℹ️ **INFO**\n",
        "\n",
        "Typically you'd instead use a model serving API that is hosting your model. Here we run inference directly in our notebook for simplicity.\n",
        "\n",
        "---"
      ]
    },
    {
      "cell_type": "code",
      "execution_count": null,
      "metadata": {
        "id": "mbcQX19t4RCH"
      },
      "outputs": [],
      "source": [
        "import pandas as pd\n",
        "\n",
        "\n",
        "def get_prediction_from_model(feature_data):\n",
        "    columns = [f[\"name\"].replace(\".\", \"__\") for f in feature_data[\"metadata\"][\"features\"]]\n",
        "    data = [feature_data[\"result\"][\"features\"]]\n",
        "\n",
        "    features = pd.DataFrame(data, columns=columns)[X.columns]\n",
        "\n",
        "    return model.predict(features)[0]"
      ]
    },
    {
      "cell_type": "markdown",
      "metadata": {
        "id": "wAMNjFYB4UTk"
      },
      "source": [
        "## ✨ Run inference using features from Tecton\n",
        "\n",
        "Let's combine these functions and run inference!\n",
        "\n",
        "We can fetch our online features from Tecton, call our inference function, and\n",
        "get a prediction."
      ]
    },
    {
      "cell_type": "code",
      "execution_count": null,
      "metadata": {
        "id": "oaL8NND44Wnr"
      },
      "outputs": [],
      "source": [
        "user_id = \"user_1990251765\"\n",
        "\n",
        "online_feature_data = get_online_feature_data(user_id)\n",
        "prediction = get_prediction_from_model(online_feature_data)\n",
        "\n",
        "print(prediction)"
      ]
    },
    {
      "cell_type": "markdown",
      "metadata": {
        "id": "NBRKBShW4ZpA"
      },
      "source": [
        "## 🔥 Create a function to evaluate a user transaction and accept or reject it\n",
        "\n",
        "Our final step is to use our new fraud prediction pipeline to make decisions and\n",
        "take action in our application.\n",
        "\n",
        "In the function below we use simple business logic to decide whether to accept\n",
        "or reject a transaction based on our predicted fraud score."
      ]
    },
    {
      "cell_type": "code",
      "execution_count": null,
      "metadata": {
        "id": "nXhQjpX-4b21"
      },
      "outputs": [],
      "source": [
        "def evaluate_transaction(user_id):\n",
        "    online_feature_data = get_online_feature_data(user_id)\n",
        "    is_predicted_fraud = get_prediction_from_model(online_feature_data)\n",
        "\n",
        "    if is_predicted_fraud == 0:\n",
        "        return \"Transaction accepted.\"\n",
        "    else:\n",
        "        return \"Transaction denied.\""
      ]
    },
    {
      "cell_type": "markdown",
      "metadata": {
        "id": "JZd85qQX4fXo"
      },
      "source": [
        "## 💰 Evaluate a transaction\n",
        "\n",
        "Put it all together and we have a single online, low-latency decision API for\n",
        "our application. Try it out below!"
      ]
    },
    {
      "cell_type": "code",
      "execution_count": null,
      "metadata": {
        "id": "V3mVm3ZI4gBD"
      },
      "outputs": [],
      "source": [
        "evaluate_transaction(\"user_1990251765\")"
      ]
    },
    {
      "cell_type": "markdown",
      "metadata": {
        "id": "0x1g2pnZ4jiC"
      },
      "source": [
        "## ⭐️ Conclusion\n",
        "\n",
        "In this tutorial, we were able to quickly make an end to end real-time fraud\n",
        "detection application using features built in Tecton.\n",
        "\n",
        "We tested our features, built training data sets, productionized features with\n",
        "engineering best practices, retrieved features online, and made decisions in\n",
        "real time!\n",
        "\n",
        "But Tecton can do so much more:\n",
        "\n",
        "- streaming features\n",
        "- real-time features\n",
        "- monitoring\n",
        "- unit testing\n",
        "- cataloging and discovery\n",
        "- access controls\n",
        "- cost management\n",
        "- rules engines\n",
        "\n",
        "...and more.\n",
        "\n",
        "Next, we recommend checking out our tutorial on\n",
        "[building streaming features](https://docs.tecton.ai/docs/beta/tutorials/building-streaming-features) to learn more\n",
        "about how to infuse your models with real-time data using nothing more than\n",
        "Python!"
      ]
    }
  ],
  "metadata": {
    "colab": {
      "collapsed_sections": [],
      "include_colab_link": true,
      "provenance": []
    },
    "kernelspec": {
      "display_name": "Python 3",
      "name": "python3"
    },
    "language_info": {
      "codemirror_mode": {
        "name": "ipython",
        "version": 3
      },
      "file_extension": ".py",
      "mimetype": "text/x-python",
      "name": "python",
      "nbconvert_exporter": "python",
      "pygments_lexer": "ipython3",
      "version": "3.11.8"
    }
  },
  "nbformat": 4,
  "nbformat_minor": 0
}
