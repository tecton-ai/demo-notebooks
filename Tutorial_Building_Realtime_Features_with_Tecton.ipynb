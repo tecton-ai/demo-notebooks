{
 "cells": [
  {
   "cell_type": "markdown",
   "id": "4b76fe86",
   "metadata": {},
   "source": [
    "# Building Realtime Features with Tecton\n",
    "\n",
    "<a href=\"https://colab.research.google.com/github/tecton-ai/demo-notebooks/blob/main/Tutorial_Building_Realtime_Features_with_Tecton.ipynb\" target=\"_parent\"><img src=\"https://colab.research.google.com/assets/colab-badge.svg\" alt=\"Open In Colab\"/></a>\n"
   ]
  },
  {
   "cell_type": "markdown",
   "id": "7a75b45a",
   "metadata": {},
   "source": [
    "\n",
    "Many of the most powerful ML features can only be calculated at the exact moment\n",
    "they're needed. Imagine an e-commerce fraud detection system - when a customer\n",
    "places an order, you might want to check if their shipping address matches their\n",
    "usual location, or if the purchase amount is unusually high compared to their\n",
    "typical spending.\n",
    "\n",
    "These \"realtime features\" need to be computed on-the-fly during model inference,\n",
    "either because:\n",
    "\n",
    "- The data is only available at request time (like the current purchase amount)\n",
    "- The computation involves comparing request data against historical patterns\n",
    "- Pre-computing all possible combinations would be impractical or impossible\n",
    "\n",
    "\n",
    "In this tutorial, we'll build realtime features for a fraud detection system\n",
    "that can:\n",
    "\n",
    "1. Check if a transaction amount is unusually high\n",
    "2. Compare the transaction against the user's historical spending patterns\n",
    "3. Serve these features with millisecond latency in production\n",
    "\n",
    "\n",
    "You'll learn how to:\n",
    "\n",
    "- Create realtime features using Python\n",
    "- Test your features interactively in a notebook\n",
    "- Combine realtime data with historical user patterns\n",
    "- Generate training data for your model\n",
    "- Deploy your features to production\n",
    "\n",
    "\n",
    "No prior Tecton experience is required, though basic Python knowledge is\n",
    "assumed. Let's get started by setting up our environment!\n"
   ]
  },
  {
   "cell_type": "markdown",
   "id": "5939fd8c",
   "metadata": {},
   "source": [
    "## Prerequisites\n",
    "\n",
    "Before we dive into building features, let's get our environment set up. You'll\n",
    "need Python >= 3.8 to get started.\n",
    "\n",
    "\n",
    "Run this command to install the Tecton SDK and supporting libraries:\n"
   ]
  },
  {
   "cell_type": "code",
   "execution_count": null,
   "id": "f9a90631",
   "metadata": {},
   "outputs": [],
   "source": [
    "!pip install 'tecton[rift]==1.1.0' gcsfs s3fs -q"
   ]
  },
  {
   "cell_type": "markdown",
   "id": "2ae0b232",
   "metadata": {},
   "source": [
    "### 2. Connect to Tecton\n",
    "\n",
    "Log in to your Tecton account (replace `explore.tecton.ai` with your\n",
    "organization's URL if different):\n"
   ]
  },
  {
   "cell_type": "code",
   "execution_count": null,
   "id": "3dd67138",
   "metadata": {},
   "outputs": [],
   "source": [
    "import tecton\n",
    "\n",
    "tecton.login(\"explore.tecton.ai\")"
   ]
  },
  {
   "cell_type": "markdown",
   "id": "afd85681",
   "metadata": {},
   "source": [
    "### 3. Import Required Dependencies\n",
    "\n",
    "Copy these imports - we'll use them throughout the tutorial:\n"
   ]
  },
  {
   "cell_type": "code",
   "execution_count": null,
   "id": "18f483eb",
   "metadata": {},
   "outputs": [],
   "source": [
    "from tecton import *\n",
    "from tecton.types import *\n",
    "from datetime import datetime, timedelta\n",
    "import pandas as pd\n",
    "\n",
    "tecton.conf.set(\"TECTON_OFFLINE_RETRIEVAL_COMPUTE_MODE\", \"rift\")"
   ]
  },
  {
   "cell_type": "markdown",
   "id": "f1348245",
   "metadata": {},
   "source": [
    "### 4. Sample Data\n",
    "\n",
    "For this tutorial, we'll use a sample transaction dataset that includes:\n",
    "\n",
    "- Historical transaction amounts\n",
    "- Transaction timestamps\n",
    "- User IDs\n",
    "- Fraud labels\n",
    "\n",
    "You don't need to download anything - we'll access this data directly from an S3\n",
    "bucket when needed.\n",
    "\n",
    "✅ With your environment ready, let's build your first realtime feature!\n"
   ]
  },
  {
   "cell_type": "markdown",
   "id": "82556375",
   "metadata": {},
   "source": [
    "## Part 1: Your First Realtime Feature\n",
    "\n",
    "Let's start by building a simple but useful feature for fraud detection:\n",
    "identifying high-value transactions that might need extra scrutiny. We'll create\n",
    "a feature that checks if a transaction amount exceeds $1,000.\n",
    "\n",
    "\n",
    "First, we need to tell Tecton what data we expect to receive at request time. We\n",
    "do this using a `RequestSource`:\n"
   ]
  },
  {
   "cell_type": "code",
   "execution_count": null,
   "id": "946a754d",
   "metadata": {},
   "outputs": [],
   "source": [
    "# Define the schema for our request data\n",
    "transaction_request = RequestSource(schema=[Field(\"amount\", Float64)])  # We expect to receive a transaction amount"
   ]
  },
  {
   "cell_type": "markdown",
   "id": "2082d437",
   "metadata": {},
   "source": [
    "### Creating the Realtime Feature\n",
    "\n",
    "Now let's create our first realtime feature. We'll write a Python function that\n",
    "takes the transaction amount and returns True if it's over $1,000:\n"
   ]
  },
  {
   "cell_type": "code",
   "execution_count": null,
   "id": "d59e56e9",
   "metadata": {},
   "outputs": [],
   "source": [
    "@realtime_feature_view(\n",
    "    sources=[transaction_request],  # Use our RequestSource as input\n",
    "    mode=\"python\",  # We'll write our transformation in Python\n",
    "    features=[Attribute(\"transaction_amount_is_high\", Bool)],  # Our output feature\n",
    ")\n",
    "def transaction_amount_is_high(request):\n",
    "    \"\"\"Check if a transaction amount is over $1,000.\"\"\"\n",
    "    return {\"transaction_amount_is_high\": request[\"amount\"] > 1000}"
   ]
  },
  {
   "cell_type": "markdown",
   "id": "33a978dc",
   "metadata": {},
   "source": [
    "### Testing the Feature\n",
    "\n",
    "Let's test our feature with some sample data:\n"
   ]
  },
  {
   "cell_type": "code",
   "execution_count": null,
   "id": "1839cd71",
   "metadata": {},
   "outputs": [],
   "source": [
    "# Test with a small transaction amount\n",
    "small_transaction = {\"request\": {\"amount\": 182.40}}\n",
    "print(\"Small transaction result:\")\n",
    "print(transaction_amount_is_high.run_transformation(input_data=small_transaction))\n",
    "\n",
    "large_transaction = {\"request\": {\"amount\": 1500.00}}\n",
    "print(\"\\nLarge transaction result:\")\n",
    "print(transaction_amount_is_high.run_transformation(input_data=large_transaction))"
   ]
  },
  {
   "cell_type": "markdown",
   "id": "40c1edb5",
   "metadata": {},
   "source": [
    "Great! You've created your first realtime feature. However, a static threshold\n",
    "of $1,000 might not make sense for all users - someone who regularly makes large\n",
    "purchases shouldn't trigger the same alerts as someone who typically makes small\n",
    "transactions.\n",
    "\n",
    "In the next section, we'll make this feature smarter by comparing the\n",
    "transaction amount to each user's typical spending patterns."
   ]
  },
  {
   "cell_type": "markdown",
   "id": "a358da2f",
   "metadata": {},
   "source": [
    "## Part 2: Making Features Smarter with Historical Context\n",
    "\n",
    "Now let's improve our fraud detection by comparing each transaction against the\n",
    "user's historical spending patterns. Instead of using a fixed threshold, we'll\n",
    "check if the transaction amount is unusually high compared to their average\n",
    "transaction amount.\n",
    "\n",
    "\n",
    "First, let's create a Batch Feature View that calculates each user's average\n",
    "transaction amount over the past year:\n"
   ]
  },
  {
   "cell_type": "code",
   "execution_count": null,
   "id": "abf2aa9b",
   "metadata": {},
   "outputs": [],
   "source": [
    "# Define our data source containing historical transactions\n",
    "transactions_batch = BatchSource(\n",
    "    name=\"transactions_batch\",\n",
    "    batch_config=FileConfig(\n",
    "        uri=\"s3://tecton.ai.public/tutorials/transactions.pq\",\n",
    "        file_format=\"parquet\",\n",
    "        timestamp_field=\"timestamp\",\n",
    "    ),\n",
    ")\n",
    "\n",
    "user = Entity(name=\"user\", join_keys=[Field(\"user_id\", String)])\n",
    "\n",
    "@batch_feature_view(\n",
    "    sources=[transactions_batch],\n",
    "    entities=[user],\n",
    "    mode=\"pandas\",\n",
    "    timestamp_field=\"timestamp\",\n",
    "    aggregation_interval=timedelta(days=1),\n",
    "    features=[\n",
    "        Aggregate(\n",
    "            input_column=Field(\"amount\", Float64),\n",
    "            function=\"mean\",\n",
    "            time_window=timedelta(days=365),\n",
    "            name=\"yearly_average\",\n",
    "        ),\n",
    "    ],\n",
    ")\n",
    "def user_transaction_averages(transactions):\n",
    "    \"\"\"Calculate the yearly average transaction amount per user.\"\"\"\n",
    "    return transactions[[\"user_id\", \"timestamp\", \"amount\"]]"
   ]
  },
  {
   "cell_type": "markdown",
   "id": "112a7fa4",
   "metadata": {},
   "source": [
    "### Combining Real-time and Historical Data\n",
    "\n",
    "Now let's create an improved realtime feature that compares the current\n",
    "transaction amount against the user's yearly average:\n"
   ]
  },
  {
   "cell_type": "code",
   "execution_count": null,
   "id": "84cbd1ff",
   "metadata": {},
   "outputs": [],
   "source": [
    "@realtime_feature_view(\n",
    "    sources=[transaction_request, user_transaction_averages],  # Current transaction data + Historical averages\n",
    "    mode=\"python\",\n",
    "    features=[Attribute(\"transaction_amount_is_higher_than_average\", Bool)],\n",
    ")\n",
    "def transaction_amount_is_higher_than_average(transaction_request, user_transaction_averages):\n",
    "    \"\"\"Check if transaction amount exceeds user's yearly average.\"\"\"\n",
    "    amount_mean = user_transaction_averages[\"yearly_average\"] or 0\n",
    "    current_amount = transaction_request[\"amount\"]\n",
    "\n",
    "    return {\"transaction_amount_is_higher_than_average\": current_amount > amount_mean}"
   ]
  },
  {
   "cell_type": "markdown",
   "id": "c2304e57",
   "metadata": {},
   "source": [
    "### Testing with Historical Context\n",
    "\n",
    "Let's test our improved feature with some realistic scenarios:\n"
   ]
  },
  {
   "cell_type": "code",
   "execution_count": null,
   "id": "d629c7be",
   "metadata": {},
   "outputs": [],
   "source": [
    "# Test scenario: Regular user with transaction history\n",
    "input_data = {\"transaction_request\": {\"amount\": 182.40}, \"user_transaction_averages\": {\"yearly_average\": 33.46}}\n",
    "\n",
    "print(\"Regular user making larger than usual purchase:\")\n",
    "print(transaction_amount_is_higher_than_average.run_transformation(input_data))\n",
    "\n",
    "input_data = {\"transaction_request\": {\"amount\": 182.40}, \"user_transaction_averages\": {\"yearly_average\": 500.00}}\n",
    "\n",
    "print(\"\\nHigh-value shopper making typical purchase:\")\n",
    "print(transaction_amount_is_higher_than_average.run_transformation(input_data))"
   ]
  },
  {
   "cell_type": "markdown",
   "id": "566155e6",
   "metadata": {},
   "source": [
    "Now we have a smarter feature that understands user context!\n",
    "\n",
    "What's Powerful About This?\n",
    "\n",
    "**Request-Aware Features in Minutes**: You defined a feature that reacts to the\n",
    "incoming transaction amount -- no precomputation, no infrastructure setup. This\n",
    "lets you incorporate request-time context into your model immediately.\n",
    "\n",
    "**Contextual Intelligence from Historical Patterns**: By combining request-time\n",
    "data with each user's historical average, you created a feature that adapts to\n",
    "individual behavior instead of relying on static thresholds. This enables more\n",
    "intelligent, personalized decisions.\n",
    "\n",
    "**Fast, Flexible Iteration**: You tested both features directly in your\n",
    "notebook, using just Python and sample inputs. No deployment or materialization\n",
    "required, making it easy to explore different ideas quickly."
   ]
  },
  {
   "cell_type": "markdown",
   "id": "2144b35a",
   "metadata": {},
   "source": [
    "## Part 3: Getting Ready for Production\n",
    "\n",
    "Now that we've built and tested our realtime features, let's prepare them for\n",
    "production use. We'll cover how to generate training data, deploy the features,\n",
    "and serve them in production.\n",
    "\n",
    "\n",
    "To train a model with our features, we need to generate historical training\n",
    "data. First, let's create a Feature Service that bundles our features together:\n"
   ]
  },
  {
   "cell_type": "code",
   "execution_count": null,
   "id": "e417b65b",
   "metadata": {},
   "outputs": [],
   "source": [
    "from tecton import FeatureService\n",
    "\n",
    "fraud_detection_feature_service = FeatureService(\n",
    "    name=\"fraud_detection_feature_service\",\n",
    "    features=[\n",
    "        user_transaction_averages,  # Historical averages\n",
    "        transaction_amount_is_higher_than_average,  # Realtime comparison\n",
    "    ],\n",
    ")"
   ]
  },
  {
   "cell_type": "markdown",
   "id": "6ac72389",
   "metadata": {},
   "source": [
    "Now let's load some historical transaction data with fraud labels:\n"
   ]
  },
  {
   "cell_type": "code",
   "execution_count": null,
   "id": "3e43c0e5",
   "metadata": {},
   "outputs": [],
   "source": [
    "# Load historical transactions with fraud labels\n",
    "training_events = pd.read_parquet(\"s3://tecton.ai.public/tutorials/transactions.pq\", storage_options={\"anon\": True})[\n",
    "    [\"user_id\", \"timestamp\", \"amount\", \"is_fraud\"]\n",
    "]\n",
    "\n",
    "training_data = fraud_detection_feature_service.get_features_for_events(training_events).to_pandas()\n",
    "\n",
    "print(\"Training data preview:\")\n",
    "display(training_data.head())"
   ]
  },
  {
   "cell_type": "markdown",
   "id": "940ff394",
   "metadata": {},
   "source": [
    "### Deploying to Production\n",
    "\n",
    "To deploy our features, we need to:\n",
    "\n",
    "1. Copy our feature definitions to a Feature Repository\n",
    "2. Apply them to a live workspace\n",
    "3. Generate an API key for serving\n",
    "\n",
    "Here's the complete feature repository code:\n",
    "\n",
    "```python\n",
    "\n",
    "from tecton import *\n",
    "from tecton.types import *\n",
    "from datetime import datetime, timedelta\n",
    "\n",
    "\n",
    "fraud_detection_feature_service = FeatureService(\n",
    "    name=\"fraud_detection_feature_service\",\n",
    "    features=[user_transaction_averages, transaction_amount_is_higher_than_average],\n",
    ")\n",
    "```\n",
    "\n",
    "Deploy using the Tecton CLI:\n",
    "\n",
    "```bash\n",
    "tecton workspace create --live fraud-detection\n",
    "tecton apply\n",
    "```"
   ]
  },
  {
   "cell_type": "markdown",
   "id": "e078bcd0",
   "metadata": {},
   "source": [
    "### Serving Realtime Features\n",
    "\n",
    "First, generate a service account API key from the Tecton UI:\n",
    "\n",
    "1. Navigate to Settings > Service Accounts\n",
    "2. Create a new service account\n",
    "3. Save the API key\n",
    "4. Grant the service account \"Consumer\" access to your workspace\n",
    "\n",
    "Now we can make realtime feature requests:\n"
   ]
  },
  {
   "cell_type": "code",
   "execution_count": null,
   "id": "27c0464a",
   "metadata": {},
   "outputs": [],
   "source": [
    "# This code would be run in your production environment\n",
    "import tecton\n",
    "\n",
    "TECTON_API_KEY = \"your-api-key\"  # Replace with your API key\n",
    "WORKSPACE_NAME = \"fraud-detection\"\n",
    "\n",
    "tecton.login(tecton_url=\"https://example.tecton.ai\", tecton_api_key=TECTON_API_KEY)\n",
    "ws = tecton.get_workspace(WORKSPACE_NAME)\n",
    "fraud_detection_service = ws.get_feature_service(\"fraud_detection_feature_service\")\n",
    "\n",
    "features = fraud_detection_service.get_online_features(\n",
    "    join_keys={\"user_id\": \"user_123\"}, request_data={\"amount\": 750.00}\n",
    ")\n",
    "\n",
    "print(\"\\nRealtime feature response:\")\n",
    "print(features.to_dict())"
   ]
  },
  {
   "cell_type": "markdown",
   "id": "078d235b",
   "metadata": {},
   "source": [
    "### Important Production Notes\n",
    "\n",
    "1. For best performance in production:\n",
    "\n",
    "   - Use the REST API directly or\n",
    "   - Use Tecton's Python/Java client libraries\n",
    "   - Avoid using `get_online_features()` in production\n",
    "\n",
    "2. Monitor your features:\n",
    "   - Watch feature freshness in the Tecton UI\n",
    "   - Set up alerts for serving latency\n",
    "   - Track feature distribution changes\n",
    "\n",
    "That's it! You've successfully built, tested, and deployed realtime features\n",
    "with Tecton."
   ]
  },
  {
   "cell_type": "markdown",
   "id": "1972c7e6",
   "metadata": {},
   "source": [
    "## Wrap-up\n",
    "\n",
    "Congratulations! You've successfully built production-ready realtime features\n",
    "for fraud detection. Let's recap what you've learned:\n",
    "\n",
    "\n",
    "- A basic realtime feature checking transaction amounts\n",
    "- A smarter feature that adapts to each user's spending patterns\n",
    "- A production-ready feature service combining historical and realtime data\n",
    "\n",
    "\n",
    "- Using `RequestSource` to define realtime inputs\n",
    "- Creating `realtime_feature_view`s for on-the-fly computations\n",
    "- Combining realtime data with historical features\n",
    "- Generating training data while maintaining consistency\n",
    "- Deploying features to production\n",
    "\n",
    "\n",
    "1. **Experiment with your own data**:\n",
    "\n",
    "   - Try different aggregation windows for historical patterns\n",
    "   - Add more features like time-of-day or location checks\n",
    "   - Combine multiple historical features\n",
    "\n",
    "2. **Optimize for production**:\n",
    "\n",
    "   - Set up proper monitoring\n",
    "   - Configure alerts\n",
    "   - Test performance at scale\n",
    "\n",
    "3. **Dive deeper**:\n",
    "   - Explore more complex transformations\n",
    "   - Add feature monitoring\n",
    "   - Implement feature logging\n",
    "\n",
    "Remember: realtime features in Tecton use the exact same code for training and\n",
    "serving, eliminating the risk of training-serving skew.\n",
    "\n",
    "Ready to build more? Check out our other tutorials and documentation for more\n",
    "advanced features and best practices!"
   ]
  }
 ],
 "metadata": {
  "colab": {
   "collapsed_sections": [],
   "name": "Tutorial_Building_Realtime_Features_with_Tecton.ipynb",
   "provenance": []
  },
  "kernelspec": {
   "display_name": "Python 3",
   "name": "python3"
  },
  "language_info": {
   "name": "python"
  }
 },
 "nbformat": 4,
 "nbformat_minor": 5
}
