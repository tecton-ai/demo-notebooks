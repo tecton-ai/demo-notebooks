{
  "cells": [
    {
      "cell_type": "markdown",
      "metadata": {
        "colab_type": "text",
        "id": "view-in-github"
      },
      "source": [
        "<a href=\"https://colab.research.google.com/github/tecton-ai/demo-notebooks/blob/main/Tutorial_Building_Streaming_Features_with_Tecton.ipynb\" target=\"_parent\"><img src=\"https://colab.research.google.com/assets/colab-badge.svg\" alt=\"Open In Colab\"/></a>"
      ]
    },
    {
      "cell_type": "markdown",
      "metadata": {
        "id": "EFYftNzeapZ_"
      },
      "source": [
        "# ⚡️ Building Streaming Features\n",
        "\n",
        "---\n",
        "\n",
        "##### 💡 **NOT YET A TECTON USER?**\n",
        "\n",
        "Sign-up at [explore.tecton.ai](https://explore.tecton.ai) for a free account that lets you try out this tutorial and explore Tecton's Web UI.\n",
        "\n",
        "---\n",
        "\n",
        "Real-time data can make all the difference for real-time models, but leveraging\n",
        "it can be quite the challenge.\n",
        "\n",
        "With Tecton you can build millisecond fresh features using plain Python and\n",
        "without any complex streaming infrastructure! Best of all, you can test it all\n",
        "locally and iterate in a notebook to quickly train better models that operate\n",
        "consistently online and offline.\n",
        "\n",
        "---\n",
        "\n",
        "##### 🗒️ **NOTE**\n",
        "\n",
        "This tutorial assumes some basic familiarity with Tecton. If you are new to Tecton, we recommend first checking out the [Quickstart Tutorial](https://docs.tecton.ai/docs/beta/tutorials/tecton-quick-start) which walks through an end-to-end journey of building a real-time ML application with Tecton.\n",
        "\n",
        "Most of this tutorial is intended to be run in a notebook. Some steps will explicitly note to run commands in your terminal.\n",
        "\n",
        "---\n",
        "\n",
        "In this tutorial we will:\n",
        "\n",
        "1. Create a streaming data source\n",
        "2. Define and test streaming features\n",
        "3. Query data online and offline\n",
        "\n",
        "## ⚙️ Install Pre-Reqs\n",
        "\n",
        "First things first, let's install the Tecton SDK and other libraries used in this tutorial by running the cell below."
      ]
    },
    {
      "cell_type": "code",
      "execution_count": null,
      "metadata": {
        "id": "wRXDwttfbMcx"
      },
      "outputs": [],
      "source": [
        "!pip install 'tecton[rift]==0.9.0b19' gcsfs s3fs -q"
      ]
    },
    {
      "cell_type": "markdown",
      "metadata": {
        "id": "4IrjEZXtblbk"
      },
      "source": [
        "## ✅ Log in to Tecton\n",
        "\n",
        "Next we will authenticate with your organization's Tecton account and import libraries we will need.\n",
        "\n",
        "For users that just signed up via `explore.tecton.ai` you can leave this step as\n",
        "is. If your organization has it's own Tecton account, replace\n",
        "`explore.tecton.ai` with your account url."
      ]
    },
    {
      "cell_type": "code",
      "execution_count": null,
      "metadata": {
        "id": "PtwM24-Gbn-d"
      },
      "outputs": [],
      "source": [
        "import tecton\n",
        "import pandas as pd\n",
        "from datetime import datetime\n",
        "from pprint import pprint\n",
        "import random, string\n",
        "\n",
        "tecton.login(\"explore.tecton.ai\")\n",
        "\n",
        "tecton.set_validation_mode(\"auto\")"
      ]
    },
    {
      "cell_type": "markdown",
      "metadata": {
        "id": "mkZ6LtsIbsCi"
      },
      "source": [
        "Now we're ready to build!\n",
        "\n",
        "## 🌊 Create a Stream Source for ingesting real-time data\n",
        "\n",
        "First, let's define a local Stream Source that supports\n",
        "[ingesting real-time data](https://docs.tecton.ai/docs/defining-features/data-sources/creating-a-data-source/creating-and-testing-a-push-source).\n",
        "Once productionized, this will give us an online HTTP endpoint to push events to\n",
        "in real-time which Tecton will then transform into features for online\n",
        "inference.\n",
        "\n",
        "As part of our Stream Source, we also register a historical log of the stream\n",
        "via the `batch_config` parameter. Tecton uses this historical log for backfills\n",
        "and offline development.\n",
        "\n",
        "---\n",
        "\n",
        "##### 💡 **TIP**\n",
        "\n",
        "Alternatively, you can have Tecton maintain this historical log for you! Simply add the `log_offline=True` parameter to the `PushConfig` and omit the `batch_config`. With this setup Tecton will log all ingested events and use those to backfill any features that use this source.\n",
        "\n",
        "---"
      ]
    },
    {
      "cell_type": "code",
      "execution_count": null,
      "metadata": {
        "id": "BHjnUaGReA8B"
      },
      "outputs": [],
      "source": [
        "from tecton import StreamSource, PushConfig, FileConfig\n",
        "from tecton.types import Field, String, Timestamp, Float64\n",
        "\n",
        "\n",
        "transactions_stream = StreamSource(\n",
        "    name=\"transactions_stream\",\n",
        "    stream_config=PushConfig(),\n",
        "    batch_config=FileConfig(\n",
        "        uri=\"s3://tecton.ai.public/tutorials/quickstart/transactions.pq\",\n",
        "        file_format=\"parquet\",\n",
        "        timestamp_field=\"timestamp\",\n",
        "    ),\n",
        "    schema=[Field(\"user_id\", String), Field(\"timestamp\", Timestamp), Field(\"amount\", Float64)],\n",
        ")"
      ]
    },
    {
      "cell_type": "markdown",
      "metadata": {
        "id": "jGFCI8DIeZNS"
      },
      "source": [
        "## 📊 Test the new Stream Source\n",
        "\n",
        "We can pull a range of offline data from a Stream Source's historical event log\n",
        "using `get_dataframe()`."
      ]
    },
    {
      "cell_type": "code",
      "execution_count": null,
      "metadata": {
        "id": "eEae71t6ebJe"
      },
      "outputs": [],
      "source": [
        "start = datetime(2023, 5, 1)\n",
        "end = datetime(2023, 8, 1)\n",
        "\n",
        "df = transactions_stream.get_dataframe(start, end).to_pandas()\n",
        "display(df.head(5))"
      ]
    },
    {
      "cell_type": "markdown",
      "metadata": {
        "id": "CDbvUzgMec9G"
      },
      "source": [
        "## 👩‍💻 Define and test streaming features locally\n",
        "\n",
        "Now that we have a Stream Source defined, we are ready to create some features.\n",
        "\n",
        "Let's use this data source to create the following 3 features:\n",
        "\n",
        "- A user's total transaction amount in the last 1 minute\n",
        "- A user's total transaction amount in the last 1 hour\n",
        "- A user's total transaction amount in the last 30 days\n",
        "\n",
        "To build these features, we will define a Stream Feature View that consumes from\n",
        "our `transactions` Stream Source.\n",
        "\n",
        "The Stream Feature View transformation operates on events in a Pandas Dataframe\n",
        "and can do any arbitrary projections, filters, or expressions as needed. It's\n",
        "just Python!\n",
        "\n",
        "---\n",
        "\n",
        "##### ℹ️ **INFO**\n",
        "\n",
        "The Python transformation runs *before* the aggregations so you can transform data as needed before it is aggregated.\n",
        "\n",
        "---"
      ]
    },
    {
      "cell_type": "code",
      "execution_count": null,
      "metadata": {
        "id": "YATj6BY5eq6w"
      },
      "outputs": [],
      "source": [
        "from tecton import Entity, stream_feature_view, Aggregation\n",
        "from datetime import datetime, timedelta\n",
        "\n",
        "\n",
        "user = Entity(name=\"user\", join_keys=[\"user_id\"])\n",
        "\n",
        "@stream_feature_view(\n",
        "    source=transactions_stream,\n",
        "    entities=[user],\n",
        "    mode=\"pandas\",\n",
        "    schema=[Field(\"user_id\", String), Field(\"timestamp\", Timestamp), Field(\"amount\", Float64)],\n",
        "    aggregations=[\n",
        "        Aggregation(function=\"sum\", column=\"amount\", time_window=timedelta(minutes=1)),\n",
        "        Aggregation(function=\"sum\", column=\"amount\", time_window=timedelta(hours=1)),\n",
        "        Aggregation(function=\"sum\", column=\"amount\", time_window=timedelta(days=30)),\n",
        "    ],\n",
        ")\n",
        "def user_transaction_amount_totals(transactions_stream):\n",
        "    return transactions_stream[[\"user_id\", \"timestamp\", \"amount\"]]"
      ]
    },
    {
      "cell_type": "markdown",
      "metadata": {
        "id": "KJbYborVe9hC"
      },
      "source": [
        "## 🧪 Test features interactively\n",
        "\n",
        "Now that we've defined and validated our Feature View, we can use\n",
        "`get_features_in_range` to produce a range of feature values and check out the\n",
        "feature data.\n",
        "\n",
        "---\n",
        "\n",
        "##### ℹ️ **INFO**\n",
        "\n",
        "These features are calculated against the Stream Source's historical event log.\n",
        "\n",
        "---"
      ]
    },
    {
      "cell_type": "code",
      "execution_count": null,
      "metadata": {
        "id": "Swlkw5imfFDV"
      },
      "outputs": [],
      "source": [
        "start = datetime(2022, 1, 1)\n",
        "end = datetime(2022, 2, 1)\n",
        "\n",
        "df = user_transaction_amount_totals.get_features_in_range(start_time=start, end_time=end).to_pandas().fillna(0)\n",
        "\n",
        "display(df.head(5))"
      ]
    },
    {
      "cell_type": "markdown",
      "metadata": {
        "id": "W2htjlRufINe"
      },
      "source": [
        "## 🧮 Generate training data\n",
        "\n",
        "We can also include our new feature in a Feature Service and generate historical\n",
        "training data for a set of training events."
      ]
    },
    {
      "cell_type": "code",
      "execution_count": null,
      "metadata": {
        "id": "WhtJd4lsfKMm"
      },
      "outputs": [],
      "source": [
        "from tecton import FeatureService\n",
        "\n",
        "fraud_detection_feature_service_streaming = FeatureService(\n",
        "    name=\"fraud_detection_feature_service_streaming\", features=[user_transaction_amount_totals]\n",
        ")\n",
        "\n",
        "# Retrieve our dataset of historical transaction data\n",
        "transactions_df = pd.read_parquet(\"s3://tecton.ai.public/tutorials/quickstart/transactions.pq\", storage_options={\"anon\": True})\n",
        "\n",
        "# Retrieve our dataset of labels containing transaction_id and is_fraud (set to 1 if the transaction is fraudulent or 0 otherwise)\n",
        "training_labels = pd.read_parquet(\"s3://tecton.ai.public/tutorials/quickstart/labels.pq\", storage_options={\"anon\": True})\n",
        "\n",
        "# Join our label dataset to our transaction data to produce a list of training events\n",
        "training_events = training_labels.merge(transactions_df, on=['transaction_id'], how='left')[['user_id', 'timestamp', 'amount', 'is_fraud']]\n",
        "\n",
        "# Pass our training events into Tecton to generate point-in-time correct training data\n",
        "training_data = fraud_detection_feature_service_streaming.get_features_for_events(training_events).to_pandas().fillna(0)\n",
        "display(training_data.head(5))"
      ]
    },
    {
      "cell_type": "markdown",
      "metadata": {
        "id": "cr8NkWXwfXfH"
      },
      "source": [
        "## 🚀 Apply our Stream Source and Stream Feature View to a Workspace.\n",
        "\n",
        "---\n",
        "\n",
        "##### ℹ️ **HEADS UP!**\n",
        "\n",
        "This section requires your organization to have it's own Tecton account. But don't fret! If you are a user of 'explore.tecton.ai', we've done these steps for you. You can read through it and continue with the rest of the tutorial, picking back up at the \"Ingest events and watch values update in real time!\" section.\n",
        "\n",
        "If you want to productionize your own features with your own data, you can sign up for an unrestricted free trial at [tecton.ai/free-trial](https://tecton.ai/free-trial).\n",
        "\n",
        "---\n",
        "\n",
        "Once we are happy with our Stream Source and Stream Feature View we can copy the\n",
        "definitions into our Feature Repository and apply our changes to a production\n",
        "workspace using the Tecton CLI.\n",
        "\n",
        "Note: The workspace must be a live workspace in order to push events to it.\n",
        "\n",
        "---\n",
        "\n",
        "##### 💡 **TIP**\n",
        "\n",
        "For more information on working with Feature Repositories or applying changes to workspaces, check out the [Quickstart Tutorial](https://docs.tecton.ai/docs/beta/tutorials/tecton-quick-start) or [Feature Development Workflow](https://docs.tecton.ai/docs/the-feature-development-workflow) pages.\n",
        "\n",
        "---\n",
        "\n",
        "On our Feature View we've added four parameters to enable backfilling, online\n",
        "ingestion, and offline materialization to the Feature Store:\n",
        "\n",
        "- `online=True`\n",
        "- `offline=True`\n",
        "- `feature_start_time=datetime(2021, 1, 1)`\n",
        "- `batch_schedule=timedelta(days=1)`\n",
        "\n",
        "**feature_repo.py**\n",
        "\n",
        "```python\n",
        "from tecton import (\n",
        "    Entity,\n",
        "    BatchSource,\n",
        "    FileConfig,\n",
        "    stream_feature_view,\n",
        "    Aggregation,\n",
        "    StreamSource,\n",
        "    PushConfig,\n",
        "    FeatureService,\n",
        ")\n",
        "from tecton.types import Field, String, Timestamp, Float64\n",
        "from datetime import datetime, timedelta\n",
        "\n",
        "\n",
        "transactions_stream = StreamSource(\n",
        "    name=\"transactions_stream\",\n",
        "    stream_config=PushConfig(),\n",
        "    batch_config=FileConfig(\n",
        "        uri=\"s3://tecton.ai.public/tutorials/quickstart/transactions.pq\",\n",
        "        file_format=\"parquet\",\n",
        "        timestamp_field=\"timestamp\",\n",
        "    ),\n",
        "    schema=[Field(\"user_id\", String), Field(\"timestamp\", Timestamp), Field(\"amount\", Float64)],\n",
        ")\n",
        "\n",
        "user = Entity(name=\"user\", join_keys=[\"user_id\"])\n",
        "\n",
        "\n",
        "@stream_feature_view(\n",
        "    source=transactions_stream,\n",
        "    entities=[user],\n",
        "    mode=\"pandas\",\n",
        "    aggregations=[\n",
        "        Aggregation(function=\"sum\", column=\"amount\", time_window=timedelta(minutes=1)),\n",
        "        Aggregation(function=\"sum\", column=\"amount\", time_window=timedelta(hours=1)),\n",
        "        Aggregation(function=\"sum\", column=\"amount\", time_window=timedelta(days=30)),\n",
        "    ],\n",
        "    schema=[Field(\"user_id\", String), Field(\"timestamp\", Timestamp), Field(\"amount\", Float64)],\n",
        "    online=True,\n",
        "    offline=True,\n",
        "    feature_start_time=datetime(2021, 1, 1),\n",
        "    batch_schedule=timedelta(days=1),\n",
        ")\n",
        "def user_transaction_amount_totals(transactions_stream):\n",
        "    return transactions_stream[[\"user_id\", \"timestamp\", \"amount\"]]\n",
        "\n",
        "\n",
        "fraud_detection_feature_service_streaming = FeatureService(\n",
        "    name=\"fraud_detection_feature_service_streaming\", features=[user_transaction_amount_totals]\n",
        ")\n",
        "```\n",
        "\n",
        "✅ Run the following commands in your terminal to select a workspace and apply\n",
        "your changes:\n",
        "\n",
        "```bash\n",
        "tecton login [your-org-account-name].tecton.ai\n",
        "tecton workspace select [my-live-workspace]\n",
        "tecton apply\n",
        "```\n",
        "\n",
        "## ⚡️ Ingest events and watch values update in real time!\n",
        "\n",
        "Now that our Stream Source has been productionised, we can start sending events\n",
        "to it and watch our aggregations update in real-time!\n",
        "\n",
        "---\n",
        "\n",
        "##### 🗒️ **NOTE**\n",
        "This step requires generating and setting a Tecton API key.\n",
        "\n",
        "To do this, you will need to create a new Service Account and give it access to\n",
        "read features from your workspace.\n",
        "\n",
        "✅ Head to the following URL to create a new service account (replace \"explore\"\n",
        "with your organization's account name in the URL as necessary). Be sure to save\n",
        "the API key!\n",
        "\n",
        "[https://explore.tecton.ai/app/settings/accounts-and-access/service-accounts?create-service-account=true](https://explore.tecton.ai/app/settings/accounts-and-access/service-accounts?create-service-account=true)\n",
        "\n",
        "✅ If you are using `explore.tecton.ai`, this account will automatically be\n",
        "given the necessary privileges to ingest stream events in the \"prod\" workspace.\n",
        "Otherwise, you should give the service account access to read features from your\n",
        "newly created workspace by following these steps:\n",
        "\n",
        "1. Navigate to the Service Account page by clicking on your new service account\n",
        "   in the list at the URL above\n",
        "2. Click on \"Assign Workspace Access\"\n",
        "3. Select your workspace and give the service account the \"Editor\" role\n",
        "\n",
        "✅ Copy the generated API key into the code snippet below where it says\n",
        "`your-api-key`. Also be sure to replace the workspace name with your newly\n",
        "created workspace name if necessary.\n",
        "\n",
        "---"
      ]
    },
    {
      "cell_type": "code",
      "execution_count": null,
      "metadata": {
        "id": "GOGzAfDphepk"
      },
      "outputs": [],
      "source": [
        "# Use your API key generated in the step above\n",
        "TECTON_API_KEY = \"your-api-key\" # replace with your API key\n",
        "WORKSPACE_NAME = \"prod\" # replace with your new workspace name if needed\n",
        "\n",
        "tecton.set_credentials(tecton_api_key=TECTON_API_KEY)\n",
        "\n",
        "# Replace with your workspace name\n",
        "ws = tecton.get_workspace(WORKSPACE_NAME)\n",
        "transactions_stream_source = ws.get_data_source(\"transactions_stream\")\n",
        "fraud_detection_feature_service_streaming = ws.get_feature_service(\"fraud_detection_feature_service_streaming\")\n",
        "\n",
        "# Generate a random user_id for the next step\n",
        "user_id = ''.join(random.choices(string.ascii_letters + string.digits, k=10))"
      ]
    },
    {
      "cell_type": "markdown",
      "metadata": {
        "id": "NacSSvtZhjtu"
      },
      "source": [
        "⭐️ Try repeatedly running these steps in quick succession and watch feature\n",
        "values update in real-time!⭐️\n",
        "\n",
        "---\n",
        "\n",
        "##### 🗒️ **NOTE**\n",
        "\n",
        "Service account permissions may take a few minutes to update. Also, your first ingestion call may take longer than the rest.\n",
        "\n",
        "---"
      ]
    },
    {
      "cell_type": "code",
      "execution_count": null,
      "metadata": {
        "id": "uGh5_951hkIm"
      },
      "outputs": [],
      "source": [
        "# Ingest events\n",
        "try:\n",
        "    response = transactions_stream_source.ingest({\"user_id\": user_id, \"timestamp\": datetime.utcnow(), \"amount\": 50})\n",
        "    pprint(response)\n",
        "\n",
        "except Exception as e:\n",
        "    print(\"Error: Your API key permissions may not yet have updated, or perhaps you didn't set the right API key and workspace name above.\\n\", e)\n"
      ]
    },
    {
      "cell_type": "code",
      "execution_count": null,
      "metadata": {
        "id": "Xxv8_Q9DhnOb"
      },
      "outputs": [],
      "source": [
        "# Read updated feature values\n",
        "try:\n",
        "    features = fraud_detection_feature_service_streaming.get_online_features(join_keys={\"user_id\": user_id})\n",
        "    pprint(features.to_dict())\n",
        "\n",
        "except Exception as e:\n",
        "    print(\"Error: Your API key permissions may not yet have updated, or perhaps you didn't set the right API key and workspace name above.\\n\", e)"
      ]
    },
    {
      "cell_type": "markdown",
      "metadata": {
        "id": "fZhpYIEehqnW"
      },
      "source": [
        "---\n",
        "\n",
        "##### 💡 **TIP**\n",
        "\n",
        "The `.ingest()` method makes it easy to push events from a notebook. In production we recommend pushing events directly to the HTTP endpoint for the best performance.\n",
        "\n",
        "The same goes for reading online data from a Feature Service via `.get_online_features()`. For best performance we recommend reading directly from the HTTP API or using our [Python Client Library](https://docs.tecton.ai/docs/reading-feature-data/reading-feature-data-for-inference/reading-online-features-for-inference-using-the-python-client).\n",
        "\n",
        "---\n",
        "\n",
        "## ⭐️ Conclusion\n",
        "\n",
        "There you have it! Using nothing but Python and a local dev environment we were\n",
        "able to get real-time features running online and ready to consume by a\n",
        "production model."
      ]
    }
  ],
  "metadata": {
    "colab": {
      "include_colab_link": true,
      "provenance": []
    },
    "kernelspec": {
      "display_name": "Python 3",
      "name": "python3"
    },
    "language_info": {
      "name": "python"
    }
  },
  "nbformat": 4,
  "nbformat_minor": 0
}
